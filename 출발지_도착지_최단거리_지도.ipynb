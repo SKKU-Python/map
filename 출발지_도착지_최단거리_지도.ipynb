{
 "cells": [
  {
   "cell_type": "code",
   "execution_count": 481,
   "metadata": {},
   "outputs": [],
   "source": [
    "import requests as r\n",
    "import pandas as pd\n",
    "import numpy as np\n",
    "import matplotlib.pyplot as plt\n",
    "import json"
   ]
  },
  {
   "cell_type": "code",
   "execution_count": 482,
   "metadata": {},
   "outputs": [],
   "source": [
    "http_header = {\n",
    "    'user-agent': 'Mozilla/5.0 (iPhone; CPU iPhone OS 11_0 like Mac OS X) AppleWebKit/604.1.38 (KHTML, like Gecko) Version/11.0 Mobile/15A372 Safari/604.1',\n",
    "    'x-requested-with': 'XMLHttpRequest'\n",
    "}"
   ]
  },
  {
   "cell_type": "code",
   "execution_count": 483,
   "metadata": {},
   "outputs": [],
   "source": [
    "session = r.Session()\n",
    "session.headers.update(http_header)"
   ]
  },
  {
   "cell_type": "code",
   "execution_count": 484,
   "metadata": {},
   "outputs": [],
   "source": [
    "dfB = pd.read_excel('list_of_address.xlsx', usecols='B', names=['시작주소'], encoding='utf-8')\n",
    "dfC = pd.read_excel('list_of_address.xlsx', usecols='C', names=['도로명주소'], encoding='utf-8')"
   ]
  },
  {
   "cell_type": "code",
   "execution_count": 485,
   "metadata": {},
   "outputs": [
    {
     "data": {
      "text/html": [
       "<div>\n",
       "<style scoped>\n",
       "    .dataframe tbody tr th:only-of-type {\n",
       "        vertical-align: middle;\n",
       "    }\n",
       "\n",
       "    .dataframe tbody tr th {\n",
       "        vertical-align: top;\n",
       "    }\n",
       "\n",
       "    .dataframe thead th {\n",
       "        text-align: right;\n",
       "    }\n",
       "</style>\n",
       "<table border=\"1\" class=\"dataframe\">\n",
       "  <thead>\n",
       "    <tr style=\"text-align: right;\">\n",
       "      <th></th>\n",
       "      <th>시작주소</th>\n",
       "    </tr>\n",
       "  </thead>\n",
       "  <tbody>\n",
       "    <tr>\n",
       "      <th>0</th>\n",
       "      <td>서울특별시 종로구 성균관로 25-2</td>\n",
       "    </tr>\n",
       "    <tr>\n",
       "      <th>1</th>\n",
       "      <td>서울특별시 관악구 난향9길  15-3</td>\n",
       "    </tr>\n",
       "    <tr>\n",
       "      <th>2</th>\n",
       "      <td>남부순환로 2406</td>\n",
       "    </tr>\n",
       "    <tr>\n",
       "      <th>3</th>\n",
       "      <td>서울특별시 관악구 신림로36길  16</td>\n",
       "    </tr>\n",
       "    <tr>\n",
       "      <th>4</th>\n",
       "      <td>서울특별시 관악구 난곡로  63</td>\n",
       "    </tr>\n",
       "  </tbody>\n",
       "</table>\n",
       "</div>"
      ],
      "text/plain": [
       "                   시작주소\n",
       "0   서울특별시 종로구 성균관로 25-2\n",
       "1  서울특별시 관악구 난향9길  15-3\n",
       "2            남부순환로 2406\n",
       "3  서울특별시 관악구 신림로36길  16\n",
       "4    서울특별시 관악구 난곡로  63 "
      ]
     },
     "execution_count": 485,
     "metadata": {},
     "output_type": "execute_result"
    }
   ],
   "source": [
    "dfB.head(5)"
   ]
  },
  {
   "cell_type": "code",
   "execution_count": 486,
   "metadata": {},
   "outputs": [
    {
     "data": {
      "text/html": [
       "<div>\n",
       "<style scoped>\n",
       "    .dataframe tbody tr th:only-of-type {\n",
       "        vertical-align: middle;\n",
       "    }\n",
       "\n",
       "    .dataframe tbody tr th {\n",
       "        vertical-align: top;\n",
       "    }\n",
       "\n",
       "    .dataframe thead th {\n",
       "        text-align: right;\n",
       "    }\n",
       "</style>\n",
       "<table border=\"1\" class=\"dataframe\">\n",
       "  <thead>\n",
       "    <tr style=\"text-align: right;\">\n",
       "      <th></th>\n",
       "      <th>도로명주소</th>\n",
       "    </tr>\n",
       "  </thead>\n",
       "  <tbody>\n",
       "    <tr>\n",
       "      <th>0</th>\n",
       "      <td>서울특별시 관악구 난향9길  15-3</td>\n",
       "    </tr>\n",
       "    <tr>\n",
       "      <th>1</th>\n",
       "      <td>남부순환로 2406</td>\n",
       "    </tr>\n",
       "    <tr>\n",
       "      <th>2</th>\n",
       "      <td>서울특별시 관악구 신림로36길  16</td>\n",
       "    </tr>\n",
       "    <tr>\n",
       "      <th>3</th>\n",
       "      <td>서울특별시 관악구 난곡로  63</td>\n",
       "    </tr>\n",
       "    <tr>\n",
       "      <th>4</th>\n",
       "      <td>서울특별시 관악구 남부순환로172길  16-7</td>\n",
       "    </tr>\n",
       "    <tr>\n",
       "      <th>5</th>\n",
       "      <td>서울특별시 관악구 남부순환로  1391</td>\n",
       "    </tr>\n",
       "    <tr>\n",
       "      <th>6</th>\n",
       "      <td>서울특별시 관악구 쑥고개로2가길  22</td>\n",
       "    </tr>\n",
       "    <tr>\n",
       "      <th>7</th>\n",
       "      <td>서울특별시 관악구 신림로  248</td>\n",
       "    </tr>\n",
       "    <tr>\n",
       "      <th>8</th>\n",
       "      <td>서울특별시 관악구 신림로17길  32</td>\n",
       "    </tr>\n",
       "    <tr>\n",
       "      <th>9</th>\n",
       "      <td>서울특별시 관악구 봉천로12길  65</td>\n",
       "    </tr>\n",
       "  </tbody>\n",
       "</table>\n",
       "</div>"
      ],
      "text/plain": [
       "                         도로명주소\n",
       "0         서울특별시 관악구 난향9길  15-3\n",
       "1                   남부순환로 2406\n",
       "2         서울특별시 관악구 신림로36길  16\n",
       "3           서울특별시 관악구 난곡로  63 \n",
       "4   서울특별시 관악구 남부순환로172길  16-7 \n",
       "5       서울특별시 관악구 남부순환로  1391 \n",
       "6       서울특별시 관악구 쑥고개로2가길  22 \n",
       "7          서울특별시 관악구 신림로  248 \n",
       "8        서울특별시 관악구 신림로17길  32 \n",
       "9        서울특별시 관악구 봉천로12길  65 "
      ]
     },
     "execution_count": 486,
     "metadata": {},
     "output_type": "execute_result"
    }
   ],
   "source": [
    "dfC.head(10)"
   ]
  },
  {
   "cell_type": "code",
   "execution_count": 487,
   "metadata": {},
   "outputs": [],
   "source": [
    "B_array = np.array(dfB.values)\n",
    "C_array = np.array(dfC.values)\n",
    "B_list = list(B_array)\n",
    "print(B_list)\n",
    "C_list = list(C_array)\n",
    "print(C_list)"
   ]
  },
  {
   "cell_type": "code",
   "execution_count": 488,
   "metadata": {},
   "outputs": [],
   "source": [
    "start = B_list[1]\n",
    "start = (str(start[0]))\n",
    "end = C_list[1] \n",
    "end = (str(end[0]))\n",
    "\n",
    "print(start)\n",
    "print(end)"
   ]
  },
  {
   "cell_type": "code",
   "execution_count": 489,
   "metadata": {},
   "outputs": [],
   "source": [
    "search_distance_url_base = 'https://m.map.naver.com/spirra/findCarRoute.nhn?route=route3&output=json&result=web3&coord_type=latlng&search=2&car=0&mileage=12.4'"
   ]
  },
  {
   "cell_type": "code",
   "execution_count": 490,
   "metadata": {},
   "outputs": [],
   "source": [
    "def SEARCH_DISTANCE_URL(start_point, end_point):\n",
    "    return search_distance_url_base+'&start={}&destination={}'.format(start_point, end_point)"
   ]
  },
  {
   "cell_type": "code",
   "execution_count": 491,
   "metadata": {},
   "outputs": [],
   "source": [
    "def SEARCH_POINT_URL(q):\n",
    "    return 'https://m.map.naver.com/apis/search/poi?query={}&page=1'.format(q)"
   ]
  },
  {
   "cell_type": "code",
   "execution_count": 492,
   "metadata": {},
   "outputs": [],
   "source": [
    "def GET_END_POINT(q):\n",
    "    res = session.get(SEARCH_POINT_URL(q)).text\n",
    "    res_dict = json.loads(res)\n",
    "    x = res_dict['result']['address']['list'][0]['x']\n",
    "    y = res_dict['result']['address']['list'][0]['y']\n",
    "    name = res_dict['result']['address']['list'][0]['name']\n",
    "    return '{},{},{}'.format(x, y, name)"
   ]
  },
  {
   "cell_type": "code",
   "execution_count": 493,
   "metadata": {},
   "outputs": [],
   "source": [
    "def GET_INFO(start, end):\n",
    "    start_point = GET_END_POINT(start)\n",
    "    end_point = GET_END_POINT(end)\n",
    "    \n",
    "    res = session.get(SEARCH_DISTANCE_URL(start_point, end_point)).text\n",
    "    res_dict = json.loads(res)\n",
    "    \n",
    "    target = res_dict['routes'][0]['summary']\n",
    "    start = target['start']\n",
    "    s_address = start['address']\n",
    "    s_location = start['location']\n",
    "    end = target['end']\n",
    "    e_address = end['address']\n",
    "    e_location = end['location']\n",
    "    distance = target['distance']\n",
    "    sec = target['duration']\n",
    "    taxi_fare = target['taxi_fare']\n",
    "\n",
    "    x1=float(s_location[:11])\n",
    "    y1=float(s_location[12:])\n",
    "    x2=float(e_location[:11])\n",
    "    y2=float(e_location[12:])\n",
    "    \n",
    "    \n",
    "    print('검색완료')\n",
    "    print('출발지: {}'.format(s_address))\n",
    "    print('출발지 위경도: {}'.format(s_location))\n",
    "    print('도착지: {}'.format(e_address))\n",
    "    print('도착지 위경도: {}'.format(e_location))\n",
    "    print('추천경로 이동 거리: {}km'.format(distance/1000))\n",
    "    print('예상 소요시간: {}분'.format(sec/60))\n",
    "    print('예상 택시요금: {}원'.format(taxi_fare))\n",
    "\n",
    "    print('출발지 경도: {}'.format(x1))\n",
    "    print('출발지 경도: {}'.format(y1))\n",
    "     \n",
    "    s_loc =  [float(s_location[12:]), float(s_location[:11])]\n",
    "    e_loc =  [float(e_location[12:]), float(e_location[:11])]\n",
    "    import folium\n",
    "    map_osm = folium.Map(location=[float(s_location[12:]), float(s_location[:11])], zoom_start=12)\n",
    "    map_osm = folium.Map(location=[float(e_location[12:]), float(e_location[:11])], zoom_start=12) \n",
    "    folium.Marker(s_loc, popup='출발지', icon=folium.Icon(color='blue',icon='info-sign')).add_to(map_osm)\n",
    "    folium.Marker(e_loc, popup='도착지', icon=folium.Icon(color='red',icon='info-sign')).add_to(map_osm)        \n",
    "   \n",
    "    map_osm.save('C:/Users/sjsje/mywork/map4.html') #파일이 저장될 위치\n",
    "    \n",
    "    "
   ]
  },
  {
   "cell_type": "code",
   "execution_count": 494,
   "metadata": {
    "scrolled": true
   },
   "outputs": [],
   "source": [
    "GET_INFO(start, end)"
   ]
  },
  {
   "cell_type": "code",
   "execution_count": null,
   "metadata": {},
   "outputs": [],
   "source": []
  }
 ],
 "metadata": {
  "kernelspec": {
   "display_name": "Python 3",
   "language": "python",
   "name": "python3"
  },
  "language_info": {
   "codemirror_mode": {
    "name": "ipython",
    "version": 3
   },
   "file_extension": ".py",
   "mimetype": "text/x-python",
   "name": "python",
   "nbconvert_exporter": "python",
   "pygments_lexer": "ipython3",
   "version": "3.6.8"
  }
 },
 "nbformat": 4,
 "nbformat_minor": 2
}
