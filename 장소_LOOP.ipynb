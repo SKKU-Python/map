{
 "cells": [
  {
   "cell_type": "code",
   "execution_count": 45,
   "metadata": {},
   "outputs": [],
   "source": [
    "import requests as r\n",
    "import pandas as pd\n",
    "import numpy as np\n",
    "import matplotlib.pyplot as plt\n",
    "import json"
   ]
  },
  {
   "cell_type": "code",
   "execution_count": 46,
   "metadata": {},
   "outputs": [],
   "source": [
    "http_header = {\n",
    "    'user-agent': 'Mozilla/5.0 (iPhone; CPU iPhone OS 11_0 like Mac OS X) AppleWebKit/604.1.38 (KHTML, like Gecko) Version/11.0 Mobile/15A372 Safari/604.1',\n",
    "    'x-requested-with': 'XMLHttpRequest'\n",
    "}"
   ]
  },
  {
   "cell_type": "code",
   "execution_count": 47,
   "metadata": {},
   "outputs": [],
   "source": [
    "session = r.Session()\n",
    "session.headers.update(http_header)"
   ]
  },
  {
   "cell_type": "code",
   "execution_count": 48,
   "metadata": {},
   "outputs": [],
   "source": [
    "dfB = pd.read_excel('list_of_address.xlsx', usecols='B', names=['시작주소'], encoding='utf-8')\n",
    "dfC = pd.read_excel('list_of_address.xlsx', usecols='C', names=['도로명주소'], encoding='utf-8')"
   ]
  },
  {
   "cell_type": "code",
   "execution_count": 49,
   "metadata": {},
   "outputs": [],
   "source": [
    "B_array = np.array(dfB.values)\n",
    "C_array = np.array(dfC.values)\n",
    "B_list = list(B_array)\n",
    "print(B_list)\n",
    "C_list = list(C_array)\n",
    "print(C_list)"
   ]
  },
  {
   "cell_type": "code",
   "execution_count": 50,
   "metadata": {},
   "outputs": [],
   "source": [
    "\n",
    "    \n",
    "    search_distance_url_base = 'https://m.map.naver.com/spirra/findCarRoute.nhn?route=route3&output=json&result=web3&coord_type=latlng&search=2&car=0&mileage=12.4'\n",
    "    \n",
    "    def SEARCH_DISTANCE_URL(start_point, end_point):\n",
    "        return search_distance_url_base+'&start={}&destination={}'.format(start_point, end_point)\n",
    "\n",
    "    def SEARCH_POINT_URL(q):\n",
    "        return 'https://m.map.naver.com/apis/search/poi?query={}&page=1'.format(q)\n",
    "\n",
    "    def GET_END_POINT(q):\n",
    "        res = session.get(SEARCH_POINT_URL(q)).text\n",
    "        res_dict = json.loads(res)\n",
    "        x = res_dict['result']['address']['list'][0]['x']\n",
    "        y = res_dict['result']['address']['list'][0]['y']\n",
    "        name = res_dict['result']['address']['list'][0]['name']\n",
    "        return '{},{},{}'.format(x, y, name)\n",
    "\n",
    "    def GET_INFO(start, end):\n",
    "        start_point = GET_END_POINT(start)\n",
    "        end_point = GET_END_POINT(end)\n",
    "    \n",
    "        res = session.get(SEARCH_DISTANCE_URL(start_point, end_point)).text\n",
    "        res_dict = json.loads(res)\n",
    "    \n",
    "        target = res_dict['routes'][0]['summary']\n",
    "        start = target['start']\n",
    "        s_address = start['address']\n",
    "        s_location = start['location']\n",
    "        end = target['end']\n",
    "        e_address = end['address']\n",
    "        e_location = end['location']\n",
    "        distance = target['distance']\n",
    "        sec = target['duration']\n",
    "        taxi_fare = target['taxi_fare']\n",
    "\n",
    "        x1=float(s_location[:11])\n",
    "        y1=float(s_location[12:])\n",
    "        x2=float(e_location[:11])\n",
    "        y2=float(e_location[12:])\n",
    "    \n",
    "    \n",
    "        print('검색완료')\n",
    "        print('출발지: {}'.format(s_address))\n",
    "        print('출발지 위경도: {}'.format(s_location))\n",
    "        print('도착지: {}'.format(e_address))\n",
    "        print('도착지 위경도: {}'.format(e_location))\n",
    "        print('추천경로 이동 거리: {}km'.format(distance/1000))\n",
    "        print('예상 소요시간: {}분'.format(sec/60))\n",
    "        print('예상 택시요금: {}원'.format(taxi_fare))\n",
    "\n",
    "        print('출발지 경도: {}'.format(x1))\n",
    "        print('출발지 경도: {}'.format(y1))\n",
    "     \n",
    "    "
   ]
  },
  {
   "cell_type": "code",
   "execution_count": 54,
   "metadata": {},
   "outputs": [],
   "source": [
    "for i in range(0, 30):\n",
    "    start = B_list[i]\n",
    "    start = (str(start[0]))\n",
    "    end = C_list[i] \n",
    "    end = (str(end[0]))\n",
    "\n",
    "    print(start)\n",
    "    print(end)  \n",
    "    \n",
    "   \n",
    "    \n",
    "    GET_INFO(start, end)"
   ]
  },
  {
   "cell_type": "code",
   "execution_count": 52,
   "metadata": {},
   "outputs": [],
   "source": [
    "import sys"
   ]
  },
  {
   "cell_type": "code",
   "execution_count": 53,
   "metadata": {},
   "outputs": [],
   "source": [
    "sys.stdout = open('output.csv','a')"
   ]
  },
  {
   "cell_type": "code",
   "execution_count": null,
   "metadata": {},
   "outputs": [],
   "source": []
  }
 ],
 "metadata": {
  "kernelspec": {
   "display_name": "Python 3",
   "language": "python",
   "name": "python3"
  },
  "language_info": {
   "codemirror_mode": {
    "name": "ipython",
    "version": 3
   },
   "file_extension": ".py",
   "mimetype": "text/x-python",
   "name": "python",
   "nbconvert_exporter": "python",
   "pygments_lexer": "ipython3",
   "version": "3.6.8"
  }
 },
 "nbformat": 4,
 "nbformat_minor": 2
}
