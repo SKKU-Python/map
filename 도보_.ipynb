{
 "cells": [
  {
   "cell_type": "code",
   "execution_count": 40,
   "metadata": {},
   "outputs": [],
   "source": [
    "import requests as r\n",
    "import pandas as pd\n",
    "import numpy as np\n",
    "import matplotlib.pyplot as plt\n",
    "import json"
   ]
  },
  {
   "cell_type": "code",
   "execution_count": 41,
   "metadata": {},
   "outputs": [],
   "source": [
    "http_header = {\n",
    "    'user-agent': 'Mozilla/5.0 (Windows NT 10.0; Win64; x64) AppleWebKit/537.36 (KHTML, like Gecko) Chrome/72.0.3626.96 Safari/537.36',\n",
    "    'X-Requested-With': 'XMLHttpRequest'\n",
    "}"
   ]
  },
  {
   "cell_type": "code",
   "execution_count": 42,
   "metadata": {},
   "outputs": [],
   "source": [
    "session = r.Session()\n",
    "session.headers.update(http_header)"
   ]
  },
  {
   "cell_type": "code",
   "execution_count": 43,
   "metadata": {},
   "outputs": [],
   "source": [
    "dfB = pd.read_excel('list_of_address.xlsx', usecols='B', names=['시작주소'], encoding='utf-8')\n",
    "dfD = pd.read_excel('list_of_address.xlsx', usecols='D', names=['CU도로명주소'], encoding='utf-8')"
   ]
  },
  {
   "cell_type": "code",
   "execution_count": 44,
   "metadata": {},
   "outputs": [
    {
     "name": "stdout",
     "output_type": "stream",
     "text": [
      "[array(['서울특별시 종로구 성균관로 25-2'], dtype=object), array(['서울특별시 관악구 난향9길  15-3'], dtype=object), array(['남부순환로 2406'], dtype=object), array(['서울특별시 관악구 신림로36길  16'], dtype=object), array([' 서울특별시 관악구 난곡로  63 '], dtype=object), array([' 서울특별시 관악구 남부순환로172길  16-7 '], dtype=object), array([' 서울특별시 관악구 남부순환로  1391 '], dtype=object), array([' 서울특별시 관악구 쑥고개로2가길  22 '], dtype=object), array([' 서울특별시 관악구 신림로  248 '], dtype=object), array([' 서울특별시 관악구 신림로17길  32 '], dtype=object), array([' 서울특별시 관악구 봉천로12길  65 '], dtype=object), array([' 서울특별시 관악구 신림로56길  32 '], dtype=object), array([' 서울특별시 관악구 난곡로  238-1 '], dtype=object), array([' 서울특별시 관악구 신림로36길  14 '], dtype=object), array([' 서울특별시 관악구 신림로36길  27-9 '], dtype=object), array([' 서울특별시 관악구 신림동1길  21 '], dtype=object), array([' 서울특별시 관악구 신림로36길  24-8 '], dtype=object), array([' 서울특별시 관악구 신림로36길  30-10 '], dtype=object), array([' 서울특별시 관악구 남부순환로172길  13 '], dtype=object), array([' 서울특별시 관악구 봉천로  284 '], dtype=object), array([' 서울특별시 관악구 신림동1길  20-4 '], dtype=object), array([' 서울특별시 관악구 신림로54길  16 '], dtype=object), array([' 서울특별시 관악구 신림로64길  46 '], dtype=object), array([' 서울특별시 관악구 신원로3가길  16 '], dtype=object), array([' 서울특별시 관악구 난곡로  246 '], dtype=object), array([' 서울특별시 관악구 남부순환로172길  27 '], dtype=object), array([' 서울특별시 관악구 대학14길  75 '], dtype=object), array([' 서울특별시 관악구 신림로17길  87 '], dtype=object), array([' 서울특별시 관악구 난곡로  217 '], dtype=object), array([' 서울특별시 관악구 신림로65길  16-5 '], dtype=object)]\n",
      "[array(['서울특별시 종로구 창경궁로 236 이화빌딩'], dtype=object), array(['서울특별시 종로구 대명길 21\\xa0'], dtype=object), array(['서울특별시 종로구 대학로 81\\xa0'], dtype=object), array([nan], dtype=object), array([nan], dtype=object), array([nan], dtype=object), array([nan], dtype=object), array([nan], dtype=object), array([nan], dtype=object), array([nan], dtype=object), array([nan], dtype=object), array([nan], dtype=object), array([nan], dtype=object), array([nan], dtype=object), array([nan], dtype=object), array([nan], dtype=object), array([nan], dtype=object), array([nan], dtype=object), array([nan], dtype=object), array([nan], dtype=object), array([nan], dtype=object), array([nan], dtype=object), array([nan], dtype=object), array([nan], dtype=object), array([nan], dtype=object), array([nan], dtype=object), array([nan], dtype=object), array([nan], dtype=object), array([nan], dtype=object), array([nan], dtype=object)]\n"
     ]
    }
   ],
   "source": [
    "B_array = np.array(dfB.values)\n",
    "D_array = np.array(dfD.values)\n",
    "B_list = list(B_array)\n",
    "print(B_list)\n",
    "D_list = list(D_array)\n",
    "print(D_list)"
   ]
  },
  {
   "cell_type": "code",
   "execution_count": 45,
   "metadata": {},
   "outputs": [
    {
     "name": "stdout",
     "output_type": "stream",
     "text": [
      "서울특별시 종로구 성균관로 25-2\n",
      "서울특별시 종로구 대명길 21 \n"
     ]
    }
   ],
   "source": [
    "start = B_list[0]\n",
    "start = (str(start[0]))\n",
    "end = D_list[1] \n",
    "end = (str(end[0]))\n",
    "\n",
    "print(start)\n",
    "print(end)"
   ]
  },
  {
   "cell_type": "code",
   "execution_count": 46,
   "metadata": {},
   "outputs": [],
   "source": [
    "##여기도 체크\n",
    "search_distance_url_base = 'https://map.naver.com/findroute2/findWalkRoute.nhn?call=route2&output=json&coord_type=naver&search=0'"
   ]
  },
  {
   "cell_type": "code",
   "execution_count": 47,
   "metadata": {},
   "outputs": [],
   "source": [
    "def SEARCH_DISTANCE_URL(start_point, end_point):\n",
    "    return search_distance_url_base+'&start={}&destination={}'.format(start_point, end_point)"
   ]
  },
  {
   "cell_type": "code",
   "execution_count": 48,
   "metadata": {},
   "outputs": [],
   "source": [
    "def SEARCH_POINT_URL(q):\n",
    "    return 'https://m.map.naver.com/apis/search/poi?query={}&page=1'.format(q)"
   ]
  },
  {
   "cell_type": "code",
   "execution_count": 49,
   "metadata": {},
   "outputs": [],
   "source": [
    "def GET_END_POINT(q):\n",
    "    res = session.get(SEARCH_POINT_URL(q)).text\n",
    "    res_dict = json.loads(res)\n",
    "    x = res_dict['result']['address']['list'][0]['x']\n",
    "    y = res_dict['result']['address']['list'][0]['y']\n",
    "    name = res_dict['result']['address']['list'][0]['name']\n",
    "    return '{},{},{}'.format(x, y, name)"
   ]
  },
  {
   "cell_type": "code",
   "execution_count": 50,
   "metadata": {},
   "outputs": [],
   "source": [
    "def GET_INFO(start, end):\n",
    "    start_point = GET_END_POINT(start)\n",
    "    end_point = GET_END_POINT(end)\n",
    "    \n",
    "    res = session.get(SEARCH_DISTANCE_URL(start_point, end_point)).text\n",
    "    res_dict = json.loads(res)\n",
    "    \n",
    "\n",
    "    target = res_dict['result']['summary']\n",
    "    start = target['startPoint']\n",
    "    s_address = start['name']\n",
    "    end = target['endPoint']\n",
    "    e_address = end['name']\n",
    "    distance = target['totalDistance']\n",
    "    hour = target['totalTime']\n",
    "    \n",
    "    print('검색완료')\n",
    "    print('출발지: {}'.format(s_address))\n",
    "    print('도착지: {}'.format(e_address))\n",
    "    print(target)\n",
    "    print('추천경로 이동 거리: {}km'.format(distance/1000))\n",
    "    print('예상 소요시간: {}분'.format(hour/60))"
   ]
  },
  {
   "cell_type": "code",
   "execution_count": 51,
   "metadata": {
    "scrolled": true
   },
   "outputs": [
    {
     "name": "stdout",
     "output_type": "stream",
     "text": [
      "검색완료\n",
      "출발지: 서울특별시 종로구 성균관로 25-2(명륜3가 53-21)\n",
      "도착지: 서울특별시 종로구 대명길 21(명륜4가 46-4)\n",
      "{'returnCode': 0, 'totalDistance': 923, 'totalTime': 14, 'speed': 4, 'startPoint': {'name': '서울특별시 종로구 성균관로 25-2(명륜3가 53-21)', 'x': 349552483, 'y': 149543244, 'px': 349552500, 'py': 149543195, 'dist': 0}, 'endPoint': {'name': '서울특별시 종로구 대명길 21(명륜4가 46-4)', 'x': 349558944, 'y': 149538811, 'px': 349558992, 'py': 149538839, 'dist': 0}}\n",
      "추천경로 이동 거리: 0.923km\n",
      "예상 소요시간: 0.23333333333333334분\n"
     ]
    }
   ],
   "source": [
    "GET_INFO(start, end)"
   ]
  },
  {
   "cell_type": "code",
   "execution_count": null,
   "metadata": {},
   "outputs": [],
   "source": []
  },
  {
   "cell_type": "code",
   "execution_count": null,
   "metadata": {},
   "outputs": [],
   "source": []
  },
  {
   "cell_type": "code",
   "execution_count": null,
   "metadata": {},
   "outputs": [],
   "source": []
  },
  {
   "cell_type": "code",
   "execution_count": null,
   "metadata": {},
   "outputs": [],
   "source": []
  },
  {
   "cell_type": "code",
   "execution_count": null,
   "metadata": {},
   "outputs": [],
   "source": []
  },
  {
   "cell_type": "code",
   "execution_count": null,
   "metadata": {},
   "outputs": [],
   "source": []
  },
  {
   "cell_type": "code",
   "execution_count": null,
   "metadata": {},
   "outputs": [],
   "source": []
  }
 ],
 "metadata": {
  "kernelspec": {
   "display_name": "Python 3",
   "language": "python",
   "name": "python3"
  },
  "language_info": {
   "codemirror_mode": {
    "name": "ipython",
    "version": 3
   },
   "file_extension": ".py",
   "mimetype": "text/x-python",
   "name": "python",
   "nbconvert_exporter": "python",
   "pygments_lexer": "ipython3",
   "version": "3.6.8"
  }
 },
 "nbformat": 4,
 "nbformat_minor": 2
}
